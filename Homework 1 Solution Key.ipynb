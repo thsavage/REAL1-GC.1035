{
 "cells": [
  {
   "cell_type": "markdown",
   "metadata": {},
   "source": [
    "# Homework 1 Solution Key"
   ]
  },
  {
   "cell_type": "markdown",
   "metadata": {},
   "source": [
    "Based on the materials discussed in class to date, explain the reasons why commercial real estate has emerged as a recognized asset class, in addition to equities, bonds, cash, and derivatives. Are there economic events that you could describe that could change investor appetite for real estate?\n",
    "\n",
    "* Real estate has emerged--some would re-emerged--as a separate asset class because it combines features of equity, bonds, cash, and derivatives in manner to allow investors to further diversify their portfolios.  Such diversification allows investors to reduce their risks, improve their returns, or both.  Because real estate is a long-lived asset with periodic rent payments, it is similar to a bond.  Because real estate holdings can be placed in investment trusts that trade regularly, called REITs, it is similar to an equity.  Because land prices tend to rise in line with overall price inflation, it is similar to cash.  All of these elements can be combined to create commercial mortgage-backed securities (CMBS), which are essentially derivatives.  Finally, real estate has yielded returns in line with equities at a slightly lower risk.\n",
    "* There are many technological disruptions occurring in commercial real estate at the moment that could affect investor appetite.  For example, the rise of co-working may adversely affect the value of a building by disrupting the certainty of rent as long-term cash flow.  In addition, the rise of e-commerce may require expensive re-designs of existing lobby space.  \n",
    "    \n",
    "\n",
    "\n",
    "Consider the basic DiPasquale and Wheaton (DW) model of real estate. The opening of Hudson Yards in New York has resulted in a number of high-profile tenants leaving Midtown Central. Describe in words and/or graphically the economic implications for Midtown Central real estate performance. Are there actual examples in the news media that could can find real-world examples to highlight your descriptions?\n",
    "\n",
    "* It can be challenging to draw the impact of a decrease in demand using the DW model.  In part, this is because the slops of the lines in each quadrant captures important economic features in each of the markets.  In words, I would say the following.  The initial equilibrium in Midtown Manhattan is characterized by the tuple $\\{R^*, Q^*, C^*, P^*\\}$.\n",
    "    * Demand is stable (in equilibrium)\n",
    "    * Supporting rents at $R^*$ and stock at $Q^*$\n",
    "    * Based on construction of $C^*$\n",
    "    * Yielding NOI such that $P^*$ obtains    \n",
    "* The opening of Hudson Yards **decreases the demand** for space in Midtown Central.  As a result, $D_0 \\rightarrow D_1$.  In the short-run, because stock is fixed at $Q^*$, rents fall, $R^* \\rightarrow R_1 \\Rightarrow P^* \\rightarrow P_1$.  In the long-run, construction levels decline, $C^* \\rightarrow C^{**} \\Rightarrow Q^* \\rightarrow Q^{**} \\Rightarrow R_1 \\rightarrow R^{**} \\Rightarrow P_1 \\rightarrow P^{**}$.  The new equilibrium is $\\{R^{**}, Q^{**}, C^{**}, P^{**}\\}$.  There have been numerous stories about high-profile tenants moving from Midtown Central to Hudson Yards, including BlackRock.\n",
    "    * Note that the model is less useful in describing a decline in demand.  Typically, vacancy rates would rise in the short run, and in the long run, rents would adjust downward as a result.  Stock in a major city like NYC typically does not disappear. \n",
    "    \n",
    "\n",
    "Consider investor appetite for risk. Suppose as a result of the global financial crisis, investors become more risk averse? What impact would greater risk aversion have on the slope of the line in Exhibit 9-2? Suppose as a result of the global financial crisis, risk- free rates fell, as well as investors becoming more risk averse? What impact would both of these changes have on the line describing the trade-off of risk and return?\n",
    "\n",
    "* An increase in risk aversion would increase the slope of the line in Exhibit 9-2.  Why?  Because for any given level of risk, investors would demand a higher return.  As a result, the slope of the line in Exhibit 9-2 would increase.  As the risk-free rate declined, the intercept of the line would fall.  The two combined would result in a line with a steeper slope and a lower intercept."
   ]
  }
 ],
 "metadata": {
  "kernelspec": {
   "display_name": "Python 3",
   "language": "python",
   "name": "python3"
  },
  "language_info": {
   "codemirror_mode": {
    "name": "ipython",
    "version": 3
   },
   "file_extension": ".py",
   "mimetype": "text/x-python",
   "name": "python",
   "nbconvert_exporter": "python",
   "pygments_lexer": "ipython3",
   "version": "3.7.0"
  }
 },
 "nbformat": 4,
 "nbformat_minor": 2
}
