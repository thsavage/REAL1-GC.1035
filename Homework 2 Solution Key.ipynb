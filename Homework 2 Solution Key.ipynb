{
 "cells": [
  {
   "cell_type": "markdown",
   "metadata": {},
   "source": [
    "# Homework 2 Solution Key"
   ]
  },
  {
   "cell_type": "markdown",
   "metadata": {},
   "source": [
    "Based on the materials discussed in class to date, explain why investors are risk averse. In a world of risk aversion, describe the benefits to investors of portfolio diversification.\n",
    "\n",
    "* Risk aversion describes a situation in which individuals prefer a certain outcome to a gamble with the same expected outcome.  For example, I prefer 50 dollars with certainty over a gamble in which I receive 0 dollars with probability 50% and 100 dollars with probability 50%.  An implication of this principle is that to be willing to take on risk, measured by the variability of potential returns, I must be compensated by a higher expected (or ex ante) return.  \n",
    "* In a world of risk aversion, diversification follows the maxim of **not putting all of your eggs in one basket**.  That is, a portfolio that includes many different investment components, such as cash, bonds, equities and derivatives, may allow investors to reduce their risk for a given (or fixed) level of expected return.  This would obtain, for example, if the returns to the investment components are uncorrelated or negatively correlated.  As a result, investors lower the risk they bear for a given level of expected return.  That is, they are better off.  Real estate may be such a component because it has achieved a higher ex post return than long-dated US debt with similar levels of volatility.\n",
    "\n",
    "\n",
    "A lease is a legal contract between landlord and tenant. Describe the major features of\n",
    "leases. Explain why these features are driven by the economics of real estate.\n",
    "\n",
    "* A lease is a legal contract that specifies which party is responsible for:\n",
    "    1. Rent\n",
    "        * Flat, graduated, revaluated, indexed, and percentage\n",
    "        * Concessions and tenant improvements\n",
    "    2. Expenses\n",
    "        * Gross, net (or triple net), and hybrid\n",
    "    3. Space and term of lease\n",
    "* Leases are the outcome of a brokered negotiation between landlord and tenant.  While they may be complicated documents, the terms of the lease often capture important economic characteristics of real estate.  For example, covenants protect the landlord from potential default risks by, for example, quickly allowing a space to be relet.  They also allow for a tenant to expand the amount of space leased when expansion is necessary due, say, to success.  Renewal terms also provide a degree of certainty to both landlord and tenant.  As another example, consider a lease with percentage rents.  With such a lease, landlord earn a percentage of the gross revenue earned by a tenant.  As a result, such a lease binds the interests of the landlord and tenant, helping to address the so-called **agency dilemma**.\n",
    "    \n",
    "\n",
    "Traditional leases are typically 10-year contracts. Recently, co-working has emerged as\n",
    "a potential disruptor to this traditional lease structure. Based on the materials discussed in class to date, how might co-working affect this traditional lease model? Are there specific examples in the trade press or media that you could identify to support your arguments?\n",
    "\n",
    "* Optionality in lease structure may benefit both landlords and tenants.  For landlords, it may reduce the time it takes to lease a space and reduce overall vacancy rates.  For tenants, it may reduce their expenses or improve their productivity.  In real estate, this optionality is often called co-working.  \n",
    "* Co-working may have the practical effect of reducing average lease terms as well as reducing average vacancies.  As a result, the pricing of space may be viewed not in terms of bond pricing, but in terms of equity (or spot) pricing.  Above some threshold, the share of space in a building occupied by coworking may be viewed as exposing the landlord/owner to greater risk depending on the credit characteristics of the co-working occupants and the state of the macroeconomy.\n",
    "\n",
    "\n",
    "Consider a building in New York City that traded in Q1 2005 for a cap rate of 6.6% and traded again in Q1 2015 for a cap rate of 3.9%. Suppose there were no change in the NOI of the building. What would be your calculation of the implied increase in value of the building? Based on the materials discussed in class to date, what economic factors may have driven the increased value?\n",
    "\n",
    "* If NOI is constant, the decline in a cap rate from 6.6% to 3.9% represents an approximate 69% increase in value.\n",
    "    \n",
    "    * $\\frac{1}{0.066}=15.15$\n",
    "    \n",
    "    * $\\frac{1}{0.039}=25.64$\n",
    "    \n",
    "    * $\\frac{25.64}{15.15}-1=0.69$\n",
    "* A number of economic factors might have driven this increased value.\n",
    "    * A long-term decline in market interest rates.\n",
    "    * Increased demand for space associated with population growth or employment.\n",
    "    * An increased investor appetite for real estate, as might be shown using the DiPasquale Wheaton model.\n",
    "    * An increase desirable neighborhoods due to local amenities, such as the High Line.\n",
    "    * Government tax policies, such as opportunities zones for development or brownfield credits."
   ]
  }
 ],
 "metadata": {
  "kernelspec": {
   "display_name": "Python 3",
   "language": "python",
   "name": "python3"
  },
  "language_info": {
   "codemirror_mode": {
    "name": "ipython",
    "version": 3
   },
   "file_extension": ".py",
   "mimetype": "text/x-python",
   "name": "python",
   "nbconvert_exporter": "python",
   "pygments_lexer": "ipython3",
   "version": "3.7.0"
  }
 },
 "nbformat": 4,
 "nbformat_minor": 2
}
