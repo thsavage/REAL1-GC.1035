{
 "cells": [
  {
   "cell_type": "markdown",
   "metadata": {},
   "source": [
    "# Chapter 1: Basic Real Estate Economics"
   ]
  },
  {
   "cell_type": "markdown",
   "metadata": {},
   "source": [
    "## Economics\n",
    "* Demand\n",
    "* Supply\n",
    "* Equilibrium\n",
    "* Comparative Dynamics\n",
    "* The Remainder of this Course\n",
    "\n",
    "## The Economics of Supply and Demand\n",
    "* Supply and Demand Curves: Abstractions used to study markets\n",
    "* Unobserved even by economists\n",
    "* Revealed preference: we observe what firms and individuals do (faced with constraints and uncertainty)\n",
    "* Supply = demand is an **equilibrium condition** $\\Rightarrow P^*$ and $Q^*$\n",
    "* **Never Reason from a Price Change**\n",
    "    * Why?  Without further exploration, we do not know whether it arose from a demand-curve shift or a supply-curve shift\n",
    "\n",
    "## Market Distinctions\n",
    "* Commodity Markets (agriculture)\n",
    "* Equity Markets (stocks)\n",
    "* Debt Markets (bonds)\n",
    "* Space Markets (commercial real estate)\n",
    "    * Owners \n",
    "    * Tenants\n",
    "    * Market makers \n",
    "        * Traditional ten-year leases and relationship management\n",
    "    * Capital markets are undifferentiated flows of capital (absent controls)\n",
    "    * Real estate markets are highly differentiated and constituted with long-lived assets\n",
    "        * Returns are rents (income) plus price appreciation (yield)\n",
    "        * Income is local\n",
    "        * Yield is global\n",
    "    * Investor interest in real estate lies in the potential of uncorrelated returns (against some benchmark)\n",
    "    * Space markets are highly susseptible to technological disruption\n",
    "        * E-commerce and industrial/retail/multifamily\n",
    "        * Coworking and office\n",
    "        * Sharing economy and multifamily\n",
    "        * Emergence of niche real estate offerings, such as self storage and student housing\n",
    "        * Consider the *Geltner et al.* textbook: typos with no obvious mechanism to to correct  \n",
    "            * Contrast with this notebook"
   ]
  },
  {
   "cell_type": "markdown",
   "metadata": {},
   "source": [
    "## Physical Demand for Real Estate\n",
    "* Constrast with investor demand for real estate\n",
    "* Driven by employment growth"
   ]
  },
  {
   "cell_type": "markdown",
   "metadata": {},
   "source": [
    "## Physical Supply of Real Estate\n",
    "* Physics creates a kinked supply curve: time from blue print to construction to pre-leasing to lease up\n",
    "* Employment growth has no impact on supply **until it does**\n",
    "    * Long Run Marginal Cost Curve (an approximation to a supply curve)\n",
    "        * Baseline: Replacement rent sufficient to maintain stock $\\Rightarrow$ flat LRMC\n",
    "        * Rising: A unit of space becomes **ever more** costly due, for example, to space constraints or regulation\n",
    "        * Falling: Less costly to build due to technological improvement (exogenous) or declining demand for a location (endogenous).  Contrast Midtown with Hudson Yards."
   ]
  },
  {
   "cell_type": "markdown",
   "metadata": {},
   "source": [
    "## Capital Markets\n",
    "* Global\n",
    "* Real estate remains local\n",
    "* Purpose of capital markets is to clear capital so that it is put to its highest and use\n",
    "* Many risks associated with borrowing and construction are local rather than global"
   ]
  },
  {
   "cell_type": "markdown",
   "metadata": {},
   "source": [
    "# Chapter 2: The DiPasquale and Wheaton Model\n",
    "* To study the development of physical space (the built environment) necessitates the integration of space and asset markets."
   ]
  },
  {
   "cell_type": "markdown",
   "metadata": {},
   "source": [
    "1. Space markets: See Chapter 1\n",
    "2. Capital markets: Capital for development, driven by rents and vacancy, that in turn drive cash flows and NOI.\n",
    "3. Local economic and regualatory conditions: If demand is rising, driving  up short-term rents and vacancy, there are profitable entry conditions.  **New contruction**\n",
    "4. Forecasting.  A major component in the industry (but increasingly automated and commoditized)."
   ]
  },
  {
   "cell_type": "markdown",
   "metadata": {},
   "source": [
    "## DiPasquale and Wheaton (DW) Model: Tying Components Together\n",
    "* Representation of the model\n",
    "* Begin with a market that is initially in equilibrium\n",
    "* Create an exogenous shock to evaluate the short-run and long-run implications\n",
    "* In economics, this is called **comparative dynamics**"
   ]
  },
  {
   "cell_type": "markdown",
   "metadata": {},
   "source": [
    "## Equilibrium in DW\n",
    "* Characterized by the tuple $\\{R^*, Q^*, C^*, P^*\\}$\n",
    "* In words,\n",
    "    * Demand is stable\n",
    "    * Supporting rents at $R^*$ and stock at $Q^*$\n",
    "    * Based on construction of $C^*$\n",
    "    * Yielding NOI such that $P^*$ obtains"
   ]
  },
  {
   "cell_type": "markdown",
   "metadata": {},
   "source": [
    "## Exogenous Shock 1: Amazon Comes to Town\n",
    "* $D_0 \\rightarrow D_1$"
   ]
  },
  {
   "cell_type": "markdown",
   "metadata": {},
   "source": [
    "### Short Run Implications"
   ]
  },
  {
   "cell_type": "markdown",
   "metadata": {},
   "source": [
    "1. Stock is fixed at $Q^*$\n",
    "2. $D_0 \\rightarrow D_1 \\Rightarrow R^* \\rightarrow R_1 \\Rightarrow P^* \\rightarrow P_1$"
   ]
  },
  {
   "cell_type": "markdown",
   "metadata": {},
   "source": [
    "### Long Run Implications"
   ]
  },
  {
   "cell_type": "markdown",
   "metadata": {},
   "source": [
    "1. Profitable entry $\\Rightarrow C^* \\rightarrow C^{**} \\Rightarrow Q^* \\rightarrow Q^{**}$\n",
    "2. $R_1 \\rightarrow R^{**} \\Rightarrow P_1 \\rightarrow P^{**}$\n",
    "3. New equilibrium: $\\{R^{**}, Q^{**}, C^{**}, P^{**}\\}$"
   ]
  },
  {
   "cell_type": "markdown",
   "metadata": {},
   "source": [
    "## Exogenous Shock 2: Investor Preferences for Real Estate Increase\n",
    "* $D_0 \\rightarrow D_1$"
   ]
  },
  {
   "cell_type": "markdown",
   "metadata": {},
   "source": [
    "### Short Run Implications"
   ]
  },
  {
   "cell_type": "markdown",
   "metadata": {},
   "source": [
    "1. $D_0 \\rightarrow D_1 \\Rightarrow P^* \\rightarrow P_1$: values rise as more capital chases a fixed supply of stock\n",
    "2. Given fixed NOI, cap rates fall from \"11% to 8%\"\n",
    "\n",
    "    * NB: Obviously 8% cap rates are currently unrealistic in gateway markets"
   ]
  },
  {
   "cell_type": "markdown",
   "metadata": {},
   "source": [
    "### Long Run Implications"
   ]
  },
  {
   "cell_type": "markdown",
   "metadata": {},
   "source": [
    "1. Constrution boom $\\Rightarrow C^* \\rightarrow C^{**} \\Rightarrow Q^* \\rightarrow Q^{**}$\n",
    "2. Fixed demand for physical $\\Rightarrow R^* \\rightarrow R^{**}$\n",
    "3. Decline in NOI $\\Rightarrow P_1 \\rightarrow P^{**}$\n",
    "4. New equilibrium: $\\{R^{**}, Q^{**}, C^{**}, P^{**}\\}$ characterized by:\n",
    "    * $R^{**} < R^*$ lower rents\n",
    "    * $Q^{**} > Q^*$ larger stock\n",
    "    * $C^{**} > C^*$ larger contruction\n",
    "    * $P^{**} > P^*$ slightly higher returns (and lower cap rates)"
   ]
  },
  {
   "cell_type": "markdown",
   "metadata": {},
   "source": [
    "### Discussion\n",
    "* Demand for phyical space is local\n",
    "* Investor demand in global (and broadly consistent with long-run decline in interest rates and cap rates"
   ]
  },
  {
   "cell_type": "markdown",
   "metadata": {},
   "source": [
    "# Chapter 7: Real Estate as an Investment"
   ]
  },
  {
   "cell_type": "markdown",
   "metadata": {},
   "source": [
    "1. Investors\n",
    "2. Liquidity\n",
    "3. Debt and equity\n",
    "4. Real estate: public (REITs) and private (CMBS) markets\n",
    "5. Total returns are income (NOI) plus growth (price appreciation)"
   ]
  },
  {
   "cell_type": "markdown",
   "metadata": {},
   "source": [
    "# Chapter 8: The Time Value of Money"
   ]
  },
  {
   "cell_type": "markdown",
   "metadata": {},
   "source": [
    "## Risk Aversion"
   ]
  },
  {
   "cell_type": "markdown",
   "metadata": {},
   "source": [
    "1. Certainty is preferred to uncertainty (even if the expected payout is the same)\n",
    "2. Prefer 50 dollars with certainty over the gamble of 0 dollars if coin lands heads and 100 dollars if coin lands tails\n",
    "3. The same is true about consumption today versus consumption tomorrow.  **Tomorrow may not occur**\n",
    "4. The economics **drives** the mathematics"
   ]
  },
  {
   "cell_type": "markdown",
   "metadata": {},
   "source": [
    "## Present Value and Future Value"
   ]
  },
  {
   "cell_type": "markdown",
   "metadata": {},
   "source": [
    "### Standard Equations\n",
    "\n",
    "* Discounting: $PV = \\displaystyle\\frac{FV}{1+r}$\n",
    "\n",
    "* Augmenting: $FV = (1+r)\\cdot PV$"
   ]
  },
  {
   "cell_type": "markdown",
   "metadata": {},
   "source": [
    "### Multiple Periods: Simple versus Compound\n",
    "* $100\\cdot1.15 = 115$\n",
    "* $115\\cdot1.15 = 132.25$ \n",
    "* $100\\cdot1.15\\cdot1.15=132.25$ or a 32.25% compound return.  \n",
    "    * Note: 32.25% > 30% (or 15% + 15%)\n",
    "    * Note: 32.25% / 2 = 16.25% > 30% / 2\n",
    "* $100\\cdot(1.15)\\cdot(1.15) = 132.25$\n",
    "* $FV = (1+r)^N\\cdot PV$"
   ]
  },
  {
   "cell_type": "markdown",
   "metadata": {},
   "source": [
    "### Solve for r"
   ]
  },
  {
   "cell_type": "markdown",
   "metadata": {},
   "source": [
    "* $\\displaystyle\\frac{FV}{PV}=(1+r)^N \\Rightarrow r = \\displaystyle(\\frac{FV}{PV})^\\frac{1}{N}-1$"
   ]
  },
  {
   "cell_type": "markdown",
   "metadata": {},
   "source": [
    "### Solve for N"
   ]
  },
  {
   "cell_type": "markdown",
   "metadata": {},
   "source": [
    "* $\\displaystyle\\frac{FV}{PV}=(1+r)^N \\Rightarrow N\\cdot\\ln(1+r)=\\ln(\\displaystyle\\frac{FV}{PV}) \\Rightarrow N = \\displaystyle\\frac{\\ln(FV)-\\ln(PV)}{\\ln(1+r)}$"
   ]
  },
  {
   "cell_type": "markdown",
   "metadata": {},
   "source": [
    "### Effective Annual Rate"
   ]
  },
  {
   "cell_type": "markdown",
   "metadata": {},
   "source": [
    "* EAR $=\\big(1+\\displaystyle\\frac{i}{m}\\big)^m-1$\n",
    "* i: nominal annual rate\n",
    "* m: number of compound periods\n",
    "* $\\displaystyle\\frac{i}{m}=r$: simple interest rate per compounding period"
   ]
  },
  {
   "cell_type": "markdown",
   "metadata": {},
   "source": [
    "#### Solve for i"
   ]
  },
  {
   "cell_type": "markdown",
   "metadata": {},
   "source": [
    "* $i=m\\cdot\\big[\\big(1+EAR\\big)^\\frac{1}{m}-1\\big]$"
   ]
  },
  {
   "cell_type": "markdown",
   "metadata": {},
   "source": [
    "#### Now work in nominal terms"
   ]
  },
  {
   "cell_type": "markdown",
   "metadata": {},
   "source": [
    "* $r=\\frac{i}{m}$ once per period\n",
    "* $N=m\\cdot T$: m is number of compounding events perio year and T is the number of years.\n",
    "* $PV=\\displaystyle\\frac{FV}{(1+\\frac{i}{m})^{mT}}$ or $FV=(1+\\frac{i}{m})^{mT}\\cdot PV$"
   ]
  },
  {
   "cell_type": "markdown",
   "metadata": {},
   "source": [
    "#### Again, solve for i and T"
   ]
  },
  {
   "cell_type": "markdown",
   "metadata": {},
   "source": [
    "* $i=m \\cdot \\big[\\big(\\frac{FV}{PV}\\big)^{-mT}-1\\big]$"
   ]
  },
  {
   "cell_type": "markdown",
   "metadata": {},
   "source": [
    "* $T=\\displaystyle\\frac{\\ln(FV)-\\ln(PV)}{m \\cdot \\ln(1+\\frac{i}{m})}$ assuming $FV \\ge PV$"
   ]
  },
  {
   "cell_type": "markdown",
   "metadata": {},
   "source": [
    "## Now Expand to the Multiperiod Problem Using Building Blocks\n",
    "\n",
    "* Example: 10,000 received in two years and 12,000 received in three years discounted by 10% and 11% respectively\n",
    "* $PV=\\frac{10000}{1.10^2}+\\frac{12000}{1.11^3}=17038.76$"
   ]
  },
  {
   "cell_type": "markdown",
   "metadata": {},
   "source": [
    "### Concepts\n",
    "* Annuity: limited life of constant cash flow, such as rents on a 10-year lease\n",
    "* Perpetuity: infinite life of constant cash flow, such UK gilts (see https://en.wikipedia.org/wiki/Gilt-edged_securities)"
   ]
  },
  {
   "cell_type": "markdown",
   "metadata": {},
   "source": [
    "$S=a \\cdot d^0 + a \\cdot d^1 + a \\cdot d^2 + ... + a \\cdot d^{N-1}$\n",
    "\n",
    "$S \\cdot d = a \\cdot d^1 + a \\cdot d^2 + a \\cdot d^3 + ... + a \\cdot d^{N}$\n",
    "\n",
    "* If we substact $S \\cdot d$ from $S$ virtually all terms cancel:\n",
    "\n",
    "$S-s \\cdot d = a-a \\cdot d^N = a \\cdot (1-d^N)$\n",
    "\n",
    "* Equating:\n",
    "\n",
    "$S \\cdot (1-d) = a \\cdot (1-d^N) \\Rightarrow S = a \\cdot \\displaystyle \\frac{1-d^N}{1-d}$\n",
    "\n",
    "* Because $d<1$, $\\lim_{N \\rightarrow \\infty}S=a \\cdot \\displaystyle \\frac{1}{1-d}$\n",
    "\n",
    "* Therefore an infinite sum is actually a finite quantity."
   ]
  },
  {
   "cell_type": "markdown",
   "metadata": {},
   "source": [
    "### Example\n",
    "\n",
    "* Suppose 240 payments remain on a monthly mortgage with 1,000 dollar payments per month.\n",
    "* What is the present of the mortgage today if the opportunity cost of capita is 12% per annum or 1% per month?\n",
    "* $PV=\\frac{1000}{1.01^1}+\\frac{1000}{1.01^2}+\\frac{1000}{1.01^3}+...+\\frac{1000}{1.01^{240}}$\n",
    "* In this set up, \n",
    "    * $a=\\frac{1000}{1.01}$ and $N=240$ and $d=1.01$\n",
    "    * $PV = a \\cdot \\displaystyle \\frac{1-d^N}{1-d} = 90,819$\n",
    "* Two points\n",
    "    * There's a typo in the book.\n",
    "    * $1.01^{240} = 10.8925$ so we are reducing tail-end payments by an order of magnitude."
   ]
  },
  {
   "cell_type": "markdown",
   "metadata": {},
   "source": [
    "### Example\n",
    "\n",
    "* Suppose an annuity grows at a constant rate of $g$.\n",
    "* That is, there is an escalation clause of 2% growth per annum and the lease is quoted in dollars/sqft starting at 20 dollars/sqft.  What is the PV of a 10-year lease?\n",
    "* $PV=20\\cdot\\frac{1.02^0}{1.10^1}+20\\cdot\\frac{1.02^1}{1.10^2}+20\\cdot\\frac{1.02^2}{1.10^3}+...+20\\cdot\\frac{1.02^9}{1.10^{10}}$\n",
    "* In this set up, \n",
    "    * $a=\\frac{20}{1.10}$ and $N=10$ and $d= \\frac{1.02}{1.10}$\n",
    "    * $PV = a \\cdot \\displaystyle \\frac{1-d^N}{1-d} = 132.51$ per sqft\n",
    "    \n",
    "    \n",
    "    \n",
    "* $PV=CF_1 \\cdot \\big[ \\frac{1-(\\frac{1+g}{1+r})^N}{r-g} \\big]$ assuming $r\\gt g$\n",
    "    * If $g=0$ old formula obtains"
   ]
  },
  {
   "cell_type": "markdown",
   "metadata": {},
   "source": [
    "### Example: Consider a Perpetuity with Constant Growth"
   ]
  },
  {
   "cell_type": "markdown",
   "metadata": {},
   "source": [
    "* 100 units with rent of 1,000 dollars per month and operating expenses of 500 dollars.\n",
    "* Assume at 5% vacancy (or 95% occupancy).\n",
    "* Rents and expenses growth at the same 3% rate per year or 0.25% per month.\n",
    "* Opportunity cost of capital is 12% per year or 1% per month.\n",
    "* What is the PV?\n",
    "* $PV=\\frac{CF_1}{r-g}$ or $\\frac{NOI}{r-g}$ assuming $r>g$"
   ]
  },
  {
   "cell_type": "markdown",
   "metadata": {},
   "source": [
    "* Cash flow is $NOI \\cdot Units \\cdot Occupancy = (1000 -500) \\cdot 100 \\cdot 0.95 = 47500$\n",
    "* $PV = \\frac{47500}{1.01} + \\frac{1.0025 \\cdot 47500}{1.01^2} + ... $\n",
    "* In this set up, \n",
    "    * $a=\\frac{47500}{1.01}$ and $d= \\frac{1.00225}{1.01}$\n",
    "    * $PV = a \\cdot \\displaystyle \\frac{1}{1-d} = 6333333$"
   ]
  },
  {
   "cell_type": "markdown",
   "metadata": {},
   "source": [
    "## Summary\n",
    "* $d=\\displaystyle \\frac{1}{1+r}$: annuity with no growth\n",
    "\n",
    "\n",
    "* $d=\\displaystyle \\frac{1+g}{1+r}$: annuity with growth rate g\n",
    "\n",
    "\n",
    "* $a=\\displaystyle \\frac{CF}{1+r}$: end of period\n",
    "\n",
    "\n",
    "* $a=CF$: beginning of period\n",
    "\n",
    "\n",
    "* Annuity: $N =$ number of periods\n",
    "\n",
    "\n",
    "* Perpetuity: $N=\\infty \\Rightarrow d^N = 0$"
   ]
  },
  {
   "cell_type": "markdown",
   "metadata": {},
   "source": [
    "### Discounted Cash Flows and IRR\n",
    "\n",
    "* DCF: Present value of future stream\n",
    "\n",
    "\n",
    "* $PV = \\frac{PMT}{(1+r)^1} + \\frac{PMT}{(1+r)^2} + ... + \\frac{PMT}{(1+r)^N} + \\frac{FV}{(1+r)^N} = Stream + Lump Sum$\n",
    "\n",
    "\n",
    "* Consider: Suppose cash flows are not well described by equal payments of a level annuity plus a lump sum, then consider the use of an IRR or hurdle rate.\n",
    "\n",
    "\n",
    "* $NPV=\\frac{CF_0}{(1+IRR)^0} + \\frac{CF_1}{(1+IRR)^1} + \\frac{CF_2}{(1+IRR)^2} + ... + \\frac{CF_T}{(1+IRR)^T}$ when cash flows differ.\n",
    "\n",
    "\n",
    "* To solve for IRR, set NPV to zero.  The IRR is the rate that makes it exactly zero."
   ]
  },
  {
   "cell_type": "markdown",
   "metadata": {},
   "source": [
    "# Chapter 9: Measuring Perfomance"
   ]
  },
  {
   "cell_type": "markdown",
   "metadata": {},
   "source": [
    "* The future is **inherently unknown**\n",
    "* You do not know whether the stock market is going up or down tomorrow\n",
    "* You can guess by flipping a coin\n",
    "* You could build a model to predict stock market returns using machine learning (what I teach)"
   ]
  },
  {
   "cell_type": "markdown",
   "metadata": {},
   "source": [
    "### Returns Are Performance\n",
    "\n",
    "* Returns = (What you get - What it cost) / (What it cost)\n",
    "* *Ex post*: Looking back using empirical data, such as observed cap rates\n",
    "* *Ex ante*: Looking forward using expectations, often using the statistical concept of an average"
   ]
  },
  {
   "cell_type": "markdown",
   "metadata": {},
   "source": [
    "### Total Returns\n",
    "\n",
    "* $r_t = \\displaystyle \\frac{CF_t + V_t - V_{t-1}}{V_{t-1}}$\n",
    "\n",
    "\n",
    "* $CF_t$: cash flow (or dividends if a stock)\n",
    "\n",
    "\n",
    "* $V_t$: value today (stock price or property value)\n",
    "\n",
    "\n",
    "* $V_{t-1}$: value last year\n",
    "\n",
    "\n",
    "* $r_t = \\displaystyle \\frac{CF_t}{V_{t-1}} + \\big(\\frac{V_t}{V_{t-1}} - 1\\big) = y_t + g_t =$ current yield (or income) plus capital return (or growth)"
   ]
  },
  {
   "cell_type": "markdown",
   "metadata": {},
   "source": [
    "### Returns and Risk\n",
    "\n",
    "* Risk aversion: \n",
    "    * Certainty is prefered to a gamble (or coin flip) even with the same expected outcome\n",
    "        * 50 with certainty is prefered to 100 if heads and 0 if tails\n",
    "    * Basic result from finance theory: Investors must be compensated to take on risk  \n",
    "\n",
    "\n",
    "* Exhibit 9-1: $A \\succ B \\succ C$\n",
    "\n",
    "\n",
    "* $E[r_t]=r_{f,t} + E[RP_t]$ $\\Leftarrow$ Capital Asset Pricing Model\n",
    "\n",
    "\n",
    "* Exhibit 9-2: To take on more risk, investor must be compensate with higher **expected** returns\n",
    "\n",
    "\n",
    "* Relations:\n",
    "    * $r=y+g$\n",
    "    * $r=r_f+RP$\n",
    "    * $r=R+(i+i \\cdot R) \\approx R+i$"
   ]
  },
  {
   "cell_type": "markdown",
   "metadata": {},
   "source": [
    "# Chapter 10: DCF and NPV"
   ]
  },
  {
   "cell_type": "markdown",
   "metadata": {},
   "source": [
    "* What is an asset worth?  \n",
    "    * Not necessarily the returns\n",
    "    * Prices paid determine expected returns\n",
    "    * Cash flows can be independent of prices\n",
    "* Example: \n",
    "    * NOI 10,000\n",
    "    * EOP: 105,000\n",
    "    * Paid: 100,000\n",
    "* $(10000 + 5000)/100000 = 15$%\n",
    "* Suppose you instead paid 105000.\n",
    "    * $10000 + 0)/100000 = 9.52$% "
   ]
  },
  {
   "cell_type": "markdown",
   "metadata": {},
   "source": [
    "### Greater Fool Theory: always someone more foolish"
   ]
  },
  {
   "cell_type": "markdown",
   "metadata": {},
   "source": [
    "### DCF: Time Value of Money\n",
    "1. Forecast is expected future cash flows.\n",
    "2. Required total return.\n",
    "3. Discount using required total returns."
   ]
  },
  {
   "cell_type": "markdown",
   "metadata": {},
   "source": [
    "* As an equation: $r = rf + RP$ or total return is the sum of risk-free rate and risk premium.\n",
    "* Long-term leases: 10 years.  But being disrupted by co-working.\n",
    "* **Discussion**."
   ]
  },
  {
   "cell_type": "markdown",
   "metadata": {},
   "source": [
    "### 10.3: DCF is direct capitalization\n",
    "* Short cut: NOI/cap rate\n",
    "* Gross income multiplier: Small properties\n",
    "    * Given uncertainties in operating expenses\n",
    "* Uncertain cash flows must be discounted more heavily to reflect the uncertainty"
   ]
  },
  {
   "cell_type": "markdown",
   "metadata": {},
   "source": [
    "### Cap rates: How Sensitive to Macroeconomic Conditions\n",
    "* Discussion"
   ]
  },
  {
   "cell_type": "markdown",
   "metadata": {},
   "source": [
    "### 10-A\n",
    "* Real estate is a long-lived asset that investors hold for extended periods of time\n",
    "* Transactions costs can be substantial\n",
    "* Earning returns through the successful management of properties: increase growth paths of rents and lower periods of vacancy.\n",
    "* Performance attribution.\n",
    "    1.  Initial cash-flow yield (IY).\n",
    "    2.  Subsequent chas-flow changed (CFC)\n",
    "    3.  Yield or valuation change (YC)"
   ]
  },
  {
   "cell_type": "markdown",
   "metadata": {},
   "source": [
    "# Chapter 11: Valuation"
   ]
  },
  {
   "cell_type": "markdown",
   "metadata": {},
   "source": [
    "* See Chapter slides."
   ]
  }
 ],
 "metadata": {
  "kernelspec": {
   "display_name": "Python 3",
   "language": "python",
   "name": "python3"
  },
  "language_info": {
   "codemirror_mode": {
    "name": "ipython",
    "version": 3
   },
   "file_extension": ".py",
   "mimetype": "text/x-python",
   "name": "python",
   "nbconvert_exporter": "python",
   "pygments_lexer": "ipython3",
   "version": "3.7.0"
  }
 },
 "nbformat": 4,
 "nbformat_minor": 2
}
