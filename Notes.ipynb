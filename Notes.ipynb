{
 "cells": [
  {
   "cell_type": "markdown",
   "metadata": {},
   "source": [
    "# Chapter 1: Real Estate Economics"
   ]
  },
  {
   "cell_type": "markdown",
   "metadata": {},
   "source": [
    "## Economics\n",
    "* Demand\n",
    "* Supply\n",
    "* Equilibrium\n",
    "* Comparative Dynamics\n",
    "* The Remainder of this Course\n",
    "\n",
    "## The Economics of Supply and Demand\n",
    "* Supply and demand curves are abstractions (or representations) used to study markets\n",
    "* They are unobserved and unobservable (even by economists)\n",
    "* The theory of revealed preference: we observe what firms and individuals do (faced with constraints and uncertainty)\n",
    "* Supply = demand is an **equilibrium condition** $\\Rightarrow \\{P^*, Q^*\\}$ as an equilibrium\n",
    "* Comparative dynamics examine how **one change** impacts an equilibrium.\n",
    "* **Never Reason from a Price Change**\n",
    "    * Why?  Without further exploration, we do not know whether it arose from a demand-curve shift or a supply-curve shift\n",
    "\n",
    "## Market Distinctions\n",
    "* Commodity markets (agriculture)\n",
    "* Equity markets (stocks)\n",
    "* Debt markets (bonds)\n",
    "* Space markets (commercial real estate)\n",
    "    * Owners/landlords \n",
    "    * Tenants\n",
    "    * Brokers as market makers \n",
    "        * Traditional ten-year leases and relationship management\n",
    "    * Capital markets are largely undifferentiated flows of capital (absent controls)\n",
    "    * Real estate markets are highly differentiated and constituted with long-lived assets\n",
    "        * Returns are rents (income) plus price appreciation (yield)\n",
    "        * Income is local\n",
    "        * Yield is global\n",
    "    * Investor interest in real estate lies in the potential of uncorrelated returns (against some benchmark)\n",
    "    * Space markets are highly susseptible to technological disruption\n",
    "        * E-commerce and industrial/retail/multifamily\n",
    "        * Coworking and office\n",
    "        * Sharing economy and multifamily\n",
    "        * Emergence of niche real estate offerings, such as self storage and student housing\n",
    "        * Consider the *Geltner et al.* textbook: typos with no obvious mechanism to to correct  \n",
    "            * Contrast with this notebook"
   ]
  },
  {
   "cell_type": "markdown",
   "metadata": {},
   "source": [
    "## Physical Demand for Real Estate\n",
    "* Contrast with investor demand for real estate\n",
    "* Driven by employment growth"
   ]
  },
  {
   "cell_type": "markdown",
   "metadata": {},
   "source": [
    "## Physical Supply of Real Estate\n",
    "* Physics creates a kinked supply curve: time from blue print to construction to pre-leasing to lease up\n",
    "* Employment growth has no impact on supply **until it does**\n",
    "    * Long Run Marginal Cost Curve (an approximation to a supply curve)\n",
    "        * Baseline: Replacement rent sufficient to maintain stock $\\Rightarrow$ flat LRMC\n",
    "        * Rising: A unit of space becomes **ever more** costly due, for example, to physical constraints or regulation\n",
    "        * Falling: Less costly to build due to technological improvement (exogenous) or declining demand for a location (endogenous).  Contrast Midtown with Hudson Yards (in 2019)."
   ]
  },
  {
   "cell_type": "markdown",
   "metadata": {},
   "source": [
    "## Capital Markets\n",
    "* Global\n",
    "* Real estate remains local\n",
    "* Purpose of capital markets is to clear capital so that it is put to its highest and best use\n",
    "* Many risks associated with borrowing\n",
    "    * Construction of real estate remains localized while capital is global"
   ]
  },
  {
   "cell_type": "markdown",
   "metadata": {},
   "source": [
    "# Chapter 2: The DiPasquale and Wheaton Model\n",
    "* To examine the development of physical space (the built environment), we must unify space and asset markets.\n",
    "\n",
    "\n",
    "1. Space markets: See Chapter 1\n",
    "2. Capital markets: Capital for development, driven by rents and vacancy, that in turn drive cash flows and NOI.\n",
    "3. Local economic and regualatory conditions: If demand is rising, driving  up short-term rents and vacancy, there are profitable entry conditions.  **New contruction**\n",
    "4. Forecasting.  A major component in the industry (but increasingly automated and commoditized)."
   ]
  },
  {
   "cell_type": "markdown",
   "metadata": {},
   "source": [
    "## DiPasquale and Wheaton (DW) Model: Tying the Components Together\n",
    "* Representation of the model\n",
    "* Begin with a market that is in equilibrium (or **steady state**)\n",
    "* Create an exogenous shock to evaluate the short-run and long-run implications\n",
    "* In economics, this is called **comparative dynamics**"
   ]
  },
  {
   "cell_type": "markdown",
   "metadata": {},
   "source": [
    "## Initial Equilibrium in DW Model\n",
    "* Characterized by the tuple $\\{R^*, Q^*, C^*, P^*\\}$\n",
    "* In words,\n",
    "    * Demand is stable (in equilibrium)\n",
    "    * Supporting rents at $R^*$ and stock at $Q^*$\n",
    "    * Based on construction of $C^*$\n",
    "    * Yielding NOI such that $P^*$ obtains"
   ]
  },
  {
   "cell_type": "markdown",
   "metadata": {},
   "source": [
    "## Exogenous Shock 1: Demand for Physical Space Increases (Amazon Comes to Town)\n",
    "* $D_0 \\rightarrow D_1$"
   ]
  },
  {
   "cell_type": "markdown",
   "metadata": {},
   "source": [
    "### Short Run Implications"
   ]
  },
  {
   "cell_type": "markdown",
   "metadata": {},
   "source": [
    "1. Stock is fixed at $Q^*$\n",
    "2. $D_0 \\rightarrow D_1 \\Rightarrow R^* \\rightarrow R_1 \\Rightarrow P^* \\rightarrow P_1$"
   ]
  },
  {
   "cell_type": "markdown",
   "metadata": {},
   "source": [
    "### Long Run Implications"
   ]
  },
  {
   "cell_type": "markdown",
   "metadata": {},
   "source": [
    "1. Profitable entry $\\Rightarrow C^* \\rightarrow C^{**} \\Rightarrow Q^* \\rightarrow Q^{**}$\n",
    "2. $R_1 \\rightarrow R^{**} \\Rightarrow P_1 \\rightarrow P^{**}$\n",
    "3. New equilibrium: $\\{R^{**}, Q^{**}, C^{**}, P^{**}\\}$"
   ]
  },
  {
   "cell_type": "markdown",
   "metadata": {},
   "source": [
    "## Exogenous Shock 2: Investor Preferences for Real Estate Increase\n",
    "* $D_0 \\rightarrow D_1$"
   ]
  },
  {
   "cell_type": "markdown",
   "metadata": {},
   "source": [
    "### Short Run Implications"
   ]
  },
  {
   "cell_type": "markdown",
   "metadata": {},
   "source": [
    "1. $D_0 \\rightarrow D_1 \\Rightarrow P^* \\rightarrow P_1$: values rise as more capital chases a fixed supply of stock\n",
    "2. Given fixed NOI, cap rates fall from \"11% to 8%\"\n",
    "\n",
    "    * NB: Obviously 8% cap rates are currently unrealistic in gateway markets worldwide"
   ]
  },
  {
   "cell_type": "markdown",
   "metadata": {},
   "source": [
    "### Long Run Implications"
   ]
  },
  {
   "cell_type": "markdown",
   "metadata": {},
   "source": [
    "1. Constrution boom $\\Rightarrow C^* \\rightarrow C^{**} \\Rightarrow Q^* \\rightarrow Q^{**}$\n",
    "2. Fixed demand for physical $\\Rightarrow R^* \\rightarrow R^{**}$\n",
    "3. Decline in NOI $\\Rightarrow P_1 \\rightarrow P^{**}$\n",
    "4. New equilibrium: $\\{R^{**}, Q^{**}, C^{**}, P^{**}\\}$ characterized by:\n",
    "    * $R^{**} < R^*$ lower rents\n",
    "    * $Q^{**} > Q^*$ larger stock\n",
    "    * $C^{**} > C^*$ larger contruction\n",
    "    * $P^{**} > P^*$ slightly higher returns (and lower cap rates)"
   ]
  },
  {
   "cell_type": "markdown",
   "metadata": {},
   "source": [
    "### Discussion\n",
    "* DW provides a logical framework to consider markets, but is an abstraction from reality\n",
    "* Demand for phyical space is local\n",
    "* Investor demand is global \n",
    "* Broadly consistent with long-run decline in interest rates and cap rates"
   ]
  },
  {
   "cell_type": "markdown",
   "metadata": {},
   "source": [
    "# Chapter 7: Real Estate as an Investment"
   ]
  },
  {
   "cell_type": "markdown",
   "metadata": {},
   "source": [
    "1. Investors\n",
    "2. Liquidity\n",
    "3. Debt and equity\n",
    "4. Real estate: public (REITs) and private (CMBS) markets\n",
    "5. Total returns are income (NOI) plus growth (price appreciation)"
   ]
  },
  {
   "cell_type": "markdown",
   "metadata": {},
   "source": [
    "# Chapter 8: The Time Value of Money"
   ]
  },
  {
   "cell_type": "markdown",
   "metadata": {},
   "source": [
    "## Risk Aversion"
   ]
  },
  {
   "cell_type": "markdown",
   "metadata": {},
   "source": [
    "1. Certainty is preferred to uncertainty (even if the expected payout is the same)\n",
    "2. Consider 50 dollars with certainty over the gamble of 0 dollars if coin lands heads and 100 dollars if coin lands tails\n",
    "3. The same is true about consumption today versus consumption tomorrow.  **Tomorrow may not occur**\n",
    "4. The economics **drives** the mathematics\n",
    "5. Excel is just a tool to implement"
   ]
  },
  {
   "cell_type": "markdown",
   "metadata": {},
   "source": [
    "## Present Value and Future Value"
   ]
  },
  {
   "cell_type": "markdown",
   "metadata": {},
   "source": [
    "### Standard Equations\n",
    "\n",
    "* Discounting: $PV = \\displaystyle\\frac{FV}{1+r}$\n",
    "\n",
    "\n",
    "* Augmenting: $FV = (1+r)\\cdot PV$"
   ]
  },
  {
   "cell_type": "markdown",
   "metadata": {},
   "source": [
    "### Multiple Periods: Simple versus Compound\n",
    "* $100\\cdot1.15 = 115$\n",
    "* $115\\cdot1.15 = 132.25$ \n",
    "* $100\\cdot1.15\\cdot1.15=132.25$ or a 32.25% compound return.  \n",
    "    * Note: 32.25% > 30% (or 15% + 15%)\n",
    "    * Note: 32.25% / 2 = 16.25% > 30% / 2\n",
    "* $100\\cdot(1.15)\\cdot(1.15) = 132.25$\n",
    "* $FV = (1+r)^N\\cdot PV$"
   ]
  },
  {
   "cell_type": "markdown",
   "metadata": {},
   "source": [
    "### Solve for r"
   ]
  },
  {
   "cell_type": "markdown",
   "metadata": {},
   "source": [
    "* $\\displaystyle\\frac{FV}{PV}=(1+r)^N \\Rightarrow r = \\displaystyle(\\frac{FV}{PV})^\\frac{1}{N}-1$"
   ]
  },
  {
   "cell_type": "markdown",
   "metadata": {},
   "source": [
    "### Solve for N"
   ]
  },
  {
   "cell_type": "markdown",
   "metadata": {},
   "source": [
    "* $\\displaystyle\\frac{FV}{PV}=(1+r)^N \\Rightarrow N\\cdot\\ln(1+r)=\\ln(\\displaystyle\\frac{FV}{PV}) \\Rightarrow N = \\displaystyle\\frac{\\ln(FV)-\\ln(PV)}{\\ln(1+r)}$"
   ]
  },
  {
   "cell_type": "markdown",
   "metadata": {},
   "source": [
    "### Effective Annual Rate"
   ]
  },
  {
   "cell_type": "markdown",
   "metadata": {},
   "source": [
    "* EAR $=\\big(1+\\displaystyle\\frac{i}{m}\\big)^m-1$\n",
    "* i: nominal annual rate\n",
    "* m: number of compound periods\n",
    "* $\\displaystyle\\frac{i}{m}=r$: simple interest rate per compounding period"
   ]
  },
  {
   "cell_type": "markdown",
   "metadata": {},
   "source": [
    "#### Solve for i"
   ]
  },
  {
   "cell_type": "markdown",
   "metadata": {},
   "source": [
    "* $i=m\\cdot\\big[\\big(1+EAR\\big)^\\frac{1}{m}-1\\big]$"
   ]
  },
  {
   "cell_type": "markdown",
   "metadata": {},
   "source": [
    "#### In nominal terms"
   ]
  },
  {
   "cell_type": "markdown",
   "metadata": {},
   "source": [
    "* $r=\\frac{i}{m}$ once per period\n",
    "* $N=m\\cdot T$: m is number of compounding events perio year and T is the number of years.\n",
    "* $PV=\\displaystyle\\frac{FV}{(1+\\frac{i}{m})^{mT}}$ or $FV=(1+\\frac{i}{m})^{mT}\\cdot PV$"
   ]
  },
  {
   "cell_type": "markdown",
   "metadata": {},
   "source": [
    "#### Solve for i and T"
   ]
  },
  {
   "cell_type": "markdown",
   "metadata": {},
   "source": [
    "* $i=m \\cdot \\big[\\big(\\frac{FV}{PV}\\big)^{-mT}-1\\big]$"
   ]
  },
  {
   "cell_type": "markdown",
   "metadata": {},
   "source": [
    "* $T=\\displaystyle\\frac{\\ln(FV)-\\ln(PV)}{m \\cdot \\ln(1+\\frac{i}{m})}$ assuming $FV \\ge PV$"
   ]
  },
  {
   "cell_type": "markdown",
   "metadata": {},
   "source": [
    "## Expand to the Multiperiod Problem Using Building Blocks\n",
    "\n",
    "* Example: 10,000 received in two years and 12,000 received in three years discounted by 10% and 11% respectively\n",
    "* $PV=\\frac{10000}{1.10^2}+\\frac{12000}{1.11^3}=17038.76$"
   ]
  },
  {
   "cell_type": "markdown",
   "metadata": {},
   "source": [
    "### Concepts\n",
    "* Annuity: limited life of constant cash flow, such as rents on a 10-year lease\n",
    "* Perpetuity: infinitely lived cash flows, such UK gilts (see https://en.wikipedia.org/wiki/Gilt-edged_securities)"
   ]
  },
  {
   "cell_type": "markdown",
   "metadata": {},
   "source": [
    "$S=a \\cdot d^0 + a \\cdot d^1 + a \\cdot d^2 + ... + a \\cdot d^{N-1}$\n",
    "\n",
    "$S \\cdot d = a \\cdot d^1 + a \\cdot d^2 + a \\cdot d^3 + ... + a \\cdot d^{N}$\n",
    "\n",
    "* If we subtract $S \\cdot d$ from $S$ virtually all terms cancel:\n",
    "\n",
    "$S-S \\cdot d = a-a \\cdot d^N = a \\cdot (1-d^N)$\n",
    "\n",
    "* Equating:\n",
    "\n",
    "$S \\cdot (1-d) = a \\cdot (1-d^N) \\Rightarrow S = a \\cdot \\displaystyle \\frac{1-d^N}{1-d}$\n",
    "\n",
    "* Because $d<1$, $\\lim_{N \\rightarrow \\infty}S=a \\cdot \\displaystyle \\frac{1}{1-d}$\n",
    "\n",
    "* Therefore, an infinite sum is actually a finite quantity."
   ]
  },
  {
   "cell_type": "markdown",
   "metadata": {},
   "source": [
    "### Example\n",
    "\n",
    "* Suppose 240 payments remain on a monthly mortgage with 1,000 dollar payments per month.\n",
    "* What is the present of the mortgage today if the opportunity cost of capita is 12% per annum or 1% per month?\n",
    "* $PV=\\frac{1000}{1.01^1}+\\frac{1000}{1.01^2}+\\frac{1000}{1.01^3}+...+\\frac{1000}{1.01^{240}}$\n",
    "* In this set up, \n",
    "    * $a=\\frac{1000}{1.01}$ and $N=240$ and $d=1.01$\n",
    "    * $PV = a \\cdot \\displaystyle \\frac{1-d^N}{1-d} = 90,819$\n",
    "* Two points\n",
    "    * There's a typo in the book.\n",
    "    * $1.01^{240} = 10.8925$ so we are reducing tail-end payments by two orders of magnitude."
   ]
  },
  {
   "cell_type": "markdown",
   "metadata": {},
   "source": [
    "### Example\n",
    "\n",
    "* Suppose an annuity grows at a constant rate of $g$.\n",
    "* That is, there is an escalation clause of 2% growth per annum and the lease is quoted in dollars/sqft starting at 20 dollars/sqft.  What is the PV of a 10-year lease?\n",
    "* $PV=20\\cdot\\frac{1.02^0}{1.10^1}+20\\cdot\\frac{1.02^1}{1.10^2}+20\\cdot\\frac{1.02^2}{1.10^3}+...+20\\cdot\\frac{1.02^9}{1.10^{10}}$\n",
    "* In this set up, \n",
    "\n",
    "    * $a=\\frac{20}{1.10}$ and $N=10$ and $d= \\frac{1.02}{1.10}$\n",
    "    * $PV = a \\cdot \\displaystyle \\frac{1-d^N}{1-d} = 132.51$ per sqft\n",
    "    \n",
    "    \n",
    "    \n",
    "* $PV=CF_1 \\cdot \\big[ \\frac{1-(\\frac{1+g}{1+r})^N}{r-g} \\big]$ assuming $r\\gt g$\n",
    "    * If $g=0$, the old formula obtains"
   ]
  },
  {
   "cell_type": "markdown",
   "metadata": {},
   "source": [
    "### Example: Consider a Perpetuity with Constant Growth"
   ]
  },
  {
   "cell_type": "markdown",
   "metadata": {},
   "source": [
    "* 100 units with rent of 1,000 dollars per month and operating expenses of 500 dollars.\n",
    "* Assume at 5% vacancy (or 95% occupancy).\n",
    "* Rents and expenses growth at the same 3% rate per year or 0.25% per month.\n",
    "* Opportunity cost of capital is 12% per year or 1% per month.\n",
    "* What is the PV?\n",
    "* $PV=\\frac{CF_1}{r-g}$ or $\\frac{NOI}{r-g}$ assuming $r>g$"
   ]
  },
  {
   "cell_type": "markdown",
   "metadata": {},
   "source": [
    "* Cash flow is $NOI \\cdot Units \\cdot Occupancy = (1000 -500) \\cdot 100 \\cdot 0.95 = 47500$\n",
    "\n",
    "* $PV = \\frac{47500}{1.01} + \\frac{1.0025 \\cdot 47500}{1.01^2} + ... $\n",
    "\n",
    "* In this set up, \n",
    "    * $a=\\frac{47500}{1.01}$ and $d= \\frac{1.00225}{1.01}$\n",
    "    * $PV = a \\cdot \\displaystyle \\frac{1}{1-d} = 6333333$"
   ]
  },
  {
   "cell_type": "markdown",
   "metadata": {},
   "source": [
    "## Summary\n",
    "* $d=\\displaystyle \\frac{1}{1+r}$: annuity with no growth\n",
    "\n",
    "\n",
    "* $d=\\displaystyle \\frac{1+g}{1+r}$: annuity with growth rate g\n",
    "\n",
    "\n",
    "* $a=\\displaystyle \\frac{CF}{1+r}$: end of period\n",
    "\n",
    "\n",
    "* $a=CF$: beginning of period\n",
    "\n",
    "\n",
    "* Annuity: $N =$ number of periods\n",
    "\n",
    "\n",
    "* Perpetuity: $N=\\infty \\Rightarrow d^N = 0$"
   ]
  },
  {
   "cell_type": "markdown",
   "metadata": {},
   "source": [
    "### Discounted Cash Flows and IRR\n",
    "\n",
    "* DCF: Present value of future stream\n",
    "\n",
    "\n",
    "* $PV = \\frac{PMT}{(1+r)^1} + \\frac{PMT}{(1+r)^2} + ... + \\frac{PMT}{(1+r)^N} + \\frac{FV}{(1+r)^N} = Stream + Lump Sum$\n",
    "\n",
    "\n",
    "* Consider: Suppose cash flows are not well described by equal payments of a level annuity plus a lump sum, then consider the use of an IRR or hurdle rate.\n",
    "\n",
    "\n",
    "* $NPV=\\frac{CF_0}{(1+IRR)^0} + \\frac{CF_1}{(1+IRR)^1} + \\frac{CF_2}{(1+IRR)^2} + ... + \\frac{CF_T}{(1+IRR)^T}$ when cash flows differ.\n",
    "\n",
    "\n",
    "* To solve for IRR, set NPV to zero.  The IRR is the rate that makes it exactly zero."
   ]
  },
  {
   "cell_type": "markdown",
   "metadata": {},
   "source": [
    "# Chapter 9: Measuring Perfomance"
   ]
  },
  {
   "cell_type": "markdown",
   "metadata": {},
   "source": [
    "* The future is **inherently unknown**\n",
    "* You do not know whether the stock market is going up or down tomorrow\n",
    "* You can guess by, for example, flipping a coin\n",
    "* You could build a model to predict stock market returns using machine learning (what I do and teach)"
   ]
  },
  {
   "cell_type": "markdown",
   "metadata": {},
   "source": [
    "### Returns Are Performance\n",
    "\n",
    "* Returns = (What you get - What it cost) / (What it cost)\n",
    "* **Ex post**: Looking back using empirical data, such as observed cap rates\n",
    "* **Ex ante**: Looking forward using expectations, often using the statistical concept of an average"
   ]
  },
  {
   "cell_type": "markdown",
   "metadata": {},
   "source": [
    "### Total Returns\n",
    "\n",
    "* $r_t = \\displaystyle \\frac{CF_t + V_t - V_{t-1}}{V_{t-1}}$\n",
    "\n",
    "\n",
    "* $CF_t$: cash flow (or dividends if a stock)\n",
    "\n",
    "\n",
    "* $V_t$: value today (stock price or property value)\n",
    "\n",
    "\n",
    "* $V_{t-1}$: value last year\n",
    "\n",
    "\n",
    "* $r_t = \\displaystyle \\frac{CF_t}{V_{t-1}} + \\big(\\frac{V_t}{V_{t-1}} - 1\\big) = y_t + g_t =$ current yield (or income) plus capital return (or growth)"
   ]
  },
  {
   "cell_type": "markdown",
   "metadata": {},
   "source": [
    "### Returns and Risk\n",
    "\n",
    "* Risk aversion: \n",
    "    * Certainty is prefered to a gamble (or coin flip) even with the same expected outcome\n",
    "        * 50 with certainty is prefered to 100 if heads and 0 if tails\n",
    "    * Basic result from finance theory: Investors must be compensated to bear risk  \n",
    "\n",
    "\n",
    "* Exhibit 9-1: $A \\succ B \\succ C$\n",
    "\n",
    "\n",
    "* $E[r_t]=r_{f,t} + E[RP_t]$ $\\Leftarrow$ Capital Asset Pricing Model\n",
    "\n",
    "\n",
    "* Exhibit 9-2: To take on more risk, investor must be compensate with higher **expected** returns\n",
    "\n",
    "\n",
    "* Relations:\n",
    "    * $r=y+g$\n",
    "    * $r=r_f+RP$\n",
    "    * $r=R+(i+i \\cdot R) \\approx R+i$"
   ]
  },
  {
   "cell_type": "markdown",
   "metadata": {},
   "source": [
    "# Chapter 10: DCF and NPV"
   ]
  },
  {
   "cell_type": "markdown",
   "metadata": {},
   "source": [
    "* What is an asset worth?  \n",
    "    * Assets have no intrinsic worth.  Their value is determined in a market.\n",
    "    * The method of DCF is a valuation technique.\n",
    "    * In real estate, cash flows may be independent of the price paid for an asset.\n",
    "    * Why?  Cash flows are determined by supply and demand in a local market\n",
    "    * As a result, prices paid drive expected returns\n",
    "\n",
    "* Example: \n",
    "    * NOI: 10,000\n",
    "    * EOP: 105,000\n",
    "    * Paid: 100,000\n",
    "    * $(10000 + 5000)/100000 = 15$%\n",
    "\n",
    "* Suppose you instead paid 105000.\n",
    "    * $(10000 + 0)/100000 = 9.52$% "
   ]
  },
  {
   "cell_type": "markdown",
   "metadata": {},
   "source": [
    "### Greater Fool Theory: Always someone more foolish\n",
    "* A bemusing point but very dated  \n",
    "* Investors have different strategies and risk preferences  \n",
    "* As a result, they place different values on properties\n",
    "* Different valuations imply a gain to trade (unless transactions costs are too onerous)\n",
    "* **Someone Smarter Theory**: We can operate this property better than you can"
   ]
  },
  {
   "cell_type": "markdown",
   "metadata": {},
   "source": [
    "### DCF: Time Value of Money\n",
    "1. Forecast is expected future cash flows\n",
    "2. Required total return\n",
    "3. Discount using required total returns"
   ]
  },
  {
   "cell_type": "markdown",
   "metadata": {},
   "source": [
    "* As an equation: $r = r_f + RP$ or total return is the sum of risk-free rate and risk premium\n",
    "* Long-term leases: 10 years.  But being disrupted by co-working\n",
    "* **Discussion**"
   ]
  },
  {
   "cell_type": "markdown",
   "metadata": {},
   "source": [
    "### 10.3: DCF is direct capitalization\n",
    "* Short cut: $\\displaystyle \\frac{\\text{NOI}}{\\text{cap rate}}$\n",
    "\n",
    "* Gross income multiplier: Small properties\n",
    "    * Given uncertainties in operating expenses\n",
    "\n",
    "* Uncertain cash flows must be discounted more heavily to reflect the uncertainty"
   ]
  },
  {
   "cell_type": "markdown",
   "metadata": {},
   "source": [
    "### Cap rates: How Sensitive to Macroeconomic Conditions?\n",
    "* Discussion"
   ]
  },
  {
   "cell_type": "markdown",
   "metadata": {},
   "source": [
    "### 10-A\n",
    "* Real estate is a long-lived asset that investors hold for extended periods of time\n",
    "* Transactions costs can be substantial\n",
    "* Earning returns through the successful operation of properties: increase growth paths of rents and lower periods of vacancy\n",
    "* Performance attribution.\n",
    "    1.  Initial cash-flow yield (IY)\n",
    "    2.  Subsequent chas-flow changed (CFC)\n",
    "    3.  Yield or valuation change (YC)"
   ]
  },
  {
   "cell_type": "markdown",
   "metadata": {},
   "source": [
    "# Chapter 11: Valuation"
   ]
  },
  {
   "cell_type": "markdown",
   "metadata": {},
   "source": [
    "* See Chapter slides."
   ]
  },
  {
   "cell_type": "markdown",
   "metadata": {},
   "source": [
    "# Chapter 30: Leases and Co-Working"
   ]
  },
  {
   "cell_type": "markdown",
   "metadata": {},
   "source": [
    "* See Chapter Slides."
   ]
  },
  {
   "cell_type": "markdown",
   "metadata": {},
   "source": [
    "# Chapter 13: Debt and Leverage"
   ]
  },
  {
   "cell_type": "markdown",
   "metadata": {},
   "source": [
    "* Leverage Ratio: $LR = V / E = (L + E) / E$, where V is the asset value, L is the loan value, and E is the equity.\n",
    "* Loan to Value (LTV) Ratio: $L / V$\n",
    "* E is equity: $E = V - L$\n",
    "* Therefore: $LR = V / E = V / (V - L) = 1 / (1 - L/V)$\n",
    "* Example: $LTV = 0 \\rightarrow L = 0 \\rightarrow LR = E/E = 1$\n",
    "* Example: $LTV = 0.6 \\rightarrow LR = 1/(1-0.6) = 1/0.4 = 2.5$"
   ]
  },
  {
   "cell_type": "markdown",
   "metadata": {},
   "source": [
    "## Exhibit 13-2\n",
    "\n",
    "### Unlevered: LR = 1 or LTV = 0\n",
    "* Growth: $10,000,000 \\cdot 1.02 = 10,200,000$\n",
    "* Cash Flow: $800,000$\n",
    "* Income Return: $800,000 / 10,000,000 = 8$%\n",
    "* Appreciation Return: $10,200,000 / 10,000,000 = 2$%\n",
    "* Total Return = Income Return + Appreciation Return $=10$%"
   ]
  },
  {
   "cell_type": "markdown",
   "metadata": {},
   "source": [
    "### Levered Equity and Debt: IO loan at 8% and LR = 2.5 or LTV = 60%\n",
    "* $6,000,000$ is debt\n",
    "* IO debt service is $0.08 \\cdot 6,000,000 = 480,000$ \n",
    "* $800,000 - 480,000 = 320,000$\n",
    "* $4,200,000 = 10,200,000 - 6,000,000$\n",
    "* Income Return: $320,000 / 4,000,000 = 8$%\n",
    "* Appreciation Return: $4,200,000/4,000,000 = 5$%\n",
    "* Total Return = Income Return + Appreciation Return\n",
    "* Substantial leverage (or debt) but $13>10$ because interest rate (and expense) is lower than expected return, $8<10$\n",
    "* **No Free Lunch**"
   ]
  },
  {
   "cell_type": "markdown",
   "metadata": {},
   "source": [
    "### Larger Ex Ante Equity Returns Imply Greater Risk\n",
    "* Sensitivity Analyses: Optimistic and Pessimistic\n",
    "* **Optimistic**: Stronger Cash Flows (income) and Appreciation (growth)\n",
    "* **Pessimistic**: Weaker Cash Flows (income) and Appreciation (growth)\n",
    "* Drivers?\n",
    "    * Macroeconomics (strong GDP growth)\n",
    "    * Microeconomics (Amazon comes to town or doesn't)"
   ]
  },
  {
   "cell_type": "markdown",
   "metadata": {},
   "source": [
    "### Risk and Return\n",
    "* We have already seen this chart that displays the trade off between risk and return\n",
    "    * Security Market Line (SML), a basic building block of finance\n",
    "* It can be used to show that as more risk is taken on through debt\n",
    "    * Risk free (RF) rate of 8%\n",
    "    * Leverage Ratio (LR): $1 \\rightarrow 2.5$\n",
    "    * Risk Premium (RP): $2 \\rightarrow 5$\n",
    "* Debt becomes more risky if the RF falls: $8 \\rightarrow 6$\n",
    "    * Why: Opportunity cost of capital has fallen"
   ]
  },
  {
   "cell_type": "markdown",
   "metadata": {},
   "source": [
    "### Weighted Cost of Capital (WACC)\n",
    "* Weighted average (or convex combination) of:\n",
    "    * Debt and Equity\n",
    "    * Weighted by the Loan-to-Value (LTV) ratio"
   ]
  },
  {
   "cell_type": "markdown",
   "metadata": {},
   "source": [
    "# Chapter 15: Debt and Leverage"
   ]
  },
  {
   "cell_type": "markdown",
   "metadata": {},
   "source": [
    "* See Chapter Slides."
   ]
  },
  {
   "cell_type": "markdown",
   "metadata": {},
   "source": [
    "# Chapter 16: Debt and Leverage"
   ]
  },
  {
   "cell_type": "markdown",
   "metadata": {},
   "source": [
    "* See Chapter Slides."
   ]
  },
  {
   "cell_type": "markdown",
   "metadata": {},
   "source": [
    "# Chapter 17: Debt and Leverage"
   ]
  },
  {
   "cell_type": "markdown",
   "metadata": {},
   "source": [
    "## Rules\n",
    "\n",
    "1. The interest owed in each payment equals the applicable interest rate times the outstanding principal balance (or outstanding loan balance/OLB) at the end of the prior period.  \n",
    "\n",
    "    * INT$_t$ = OLB$_{t-1}\\cdot$ r$_t$\n",
    "\n",
    "\n",
    "2. The principal amortized (paid down) in each payment equals the total payment (net of expenses) minus the interest owed. \n",
    "\n",
    "    * AMORT$_t$ = PMT$_t$ - INT$_t$\n",
    "    \n",
    "\n",
    "3. The outstanding principal balance after each payment equals the previous outstanding principal balance minus the principal paid down.\n",
    "\n",
    "    * OLB$_t$ = OBL$_{t-1}$ - AMORT$_t$\n",
    "    \n",
    "\n",
    "4. The initial outstanding principal balance equals the initial contract principal specified in the loan agreement.\n",
    "\n",
    "    * OLB$_0$ = L"
   ]
  },
  {
   "cell_type": "markdown",
   "metadata": {},
   "source": [
    "Where:\n",
    "\n",
    "* L is loan amount\n",
    "* $t$ indexes period\n",
    "* $r_t$ is simple rate\n",
    "* INT is interest owed in period\n",
    "* AMORT is principal paid down\n",
    "* OLB is outstanding loan balance\n",
    "* PMT is payment    "
   ]
  },
  {
   "cell_type": "markdown",
   "metadata": {},
   "source": [
    "## The Economics of Refinancing: Interest Rates as OCC"
   ]
  },
  {
   "cell_type": "code",
   "execution_count": 1,
   "metadata": {},
   "outputs": [
    {
     "name": "stdout",
     "output_type": "stream",
     "text": [
      "Populating the interactive namespace from numpy and matplotlib\n"
     ]
    }
   ],
   "source": [
    "%pylab inline\n",
    "import matplotlib.pyplot as plt\n",
    "import numpy as np\n",
    "import pandas as pd\n",
    "import seaborn as sns\n",
    "import statsmodels as sm\n",
    "import statsmodels.formula.api as smf\n",
    "import statsmodels.api as sma\n",
    "import patsy\n",
    "from statsmodels.graphics.api import abline_plot\n",
    "import numpy.linalg as linalg\n",
    "from mpl_toolkits.mplot3d import Axes3D\n",
    "from matplotlib.colors import ListedColormap\n",
    "from sklearn import neighbors, datasets\n",
    "from tabulate import tabulate\n",
    "sns.set(context='notebook', style='whitegrid', palette='deep', font='sans-serif', font_scale=1, rc=None)"
   ]
  },
  {
   "cell_type": "code",
   "execution_count": 2,
   "metadata": {},
   "outputs": [],
   "source": [
    "from fredapi import Fred\n",
    "fred = Fred(api_key='30e6ecb242a73869e11cb35f6aa3afc3')\n",
    "\n",
    "ten_year = fred.get_series(\"DGS10\", observation_start='1970-01-01')"
   ]
  },
  {
   "cell_type": "code",
   "execution_count": 3,
   "metadata": {},
   "outputs": [
    {
     "data": {
      "text/plain": [
       "Text(0,0.5,'%')"
      ]
     },
     "execution_count": 3,
     "metadata": {},
     "output_type": "execute_result"
    },
    {
     "data": {
      "image/png": "[encoded data removed]",
      "text/plain": [
       "<Figure size 576x432 with 1 Axes>"
      ]
     },
     "metadata": {
      "needs_background": "light"
     },
     "output_type": "display_data"
    }
   ],
   "source": [
    "ten_year.plot(color='blue', figsize=(8, 6))\n",
    "plt.title('10-Year U.S. Treasurys', fontsize=20)\n",
    "plt.xlabel('Date')\n",
    "plt.ylabel('%', fontsize=16)"
   ]
  },
  {
   "cell_type": "markdown",
   "metadata": {},
   "source": [
    "# Chapter 18: Debt and Leverage"
   ]
  },
  {
   "cell_type": "markdown",
   "metadata": {},
   "source": [
    "* See Chapter Slides"
   ]
  },
  {
   "cell_type": "markdown",
   "metadata": {},
   "source": [
    "### Conditional Probability of Default\n",
    "\n",
    "* Pr(default$_t$ | survived$_{t-1}$, loan features$_t$)\n",
    "    * Typically estimated using logistic regression or as a Cox proportional hazard model.\n",
    "    * Other techniques may perform better.\n",
    "    * Bayesian MCMC would allow us to incorporate prior beliefs.\n",
    "    \n",
    "\n",
    "* Survived means \"did not default\" or \"die\"\n",
    "* Pr(survived$_t$) = Pr(did not default$_t$) = 1 - Pr(default$_t$)"
   ]
  },
  {
   "cell_type": "markdown",
   "metadata": {},
   "source": [
    "# Chapter 19: Debt and Leverage"
   ]
  },
  {
   "cell_type": "markdown",
   "metadata": {},
   "source": [
    "## Bonds and Fixed-Income Investments\n",
    "\n",
    "* A bond yield is the return an investor realizes on a bond \n",
    "* Consider the simplest bond, the zero-coupon bond, for which the current yield is a function of the bond's price and its coupon or interest payment\n",
    "* When an investor buys a bond, they lend money to a bond issuer.  In return, the bond issuer agrees to pay the investor interest on the bond through its maturity and to repay the face value of the bond upon maturity \n",
    "* The simplest way to calculate a bond yield, the coupon rate, is to divide its coupon payment by its face value\n",
    "    * Coupon Rate $=\\dfrac{\\text{Coupon Payment}}{\\text{Face Value}}$\n",
    "* As the face value (the price) rises, the coupon rate (the yield) falls, and vice versa\n",
    "    * Therefore, a bond's price and its yield are inversely related\n",
    "        * Basic economic principle: yields and prices are inversely related\n",
    "        * Cap rates and values are inversely related\n",
    "* Consider a fixed supply of bonds.  As the demand for bonds rises, the price must rise, pushing the yield down.  This is consistent with the idea of a \"flight to quality\" during periods such as the GFC"
   ]
  },
  {
   "cell_type": "markdown",
   "metadata": {},
   "source": [
    "## Bond Duration\n",
    "\n",
    "* Bond values (prices) are sensitivty to market interest rates.\n",
    "* Maturity is one measure.\n",
    "* Duration more fully captures this sentivity, especially for long-lived bonds. "
   ]
  },
  {
   "cell_type": "markdown",
   "metadata": {},
   "source": [
    "## Exhibit 19-1: Two Bonds with Different Maturities (But Otherwise Identical)\n",
    "\n",
    "* Bond A: 5-year maturity with a weighted duration of only 4.47 years.\n",
    "* Bond B: 10-year maturity with a weighted duration of only 7.8 years.\n",
    "* Note that the longer-lived bond shows a larger deviation between maturity and duration."
   ]
  },
  {
   "cell_type": "markdown",
   "metadata": {},
   "source": [
    "## Exhibit 19-3: Short- and Long-Term U.S. Bond Yields\n",
    "* Note that the series are reversed in the legend\n",
    "* Errors perpetuate in the hard-copy environment"
   ]
  },
  {
   "cell_type": "code",
   "execution_count": 4,
   "metadata": {},
   "outputs": [],
   "source": [
    "ten_year = fred.get_series(\"GS10\")\n",
    "one_year = fred.get_series(\"DGS1\")"
   ]
  },
  {
   "cell_type": "code",
   "execution_count": 5,
   "metadata": {},
   "outputs": [
    {
     "data": {
      "text/plain": [
       "Text(0,0.5,'%')"
      ]
     },
     "execution_count": 5,
     "metadata": {},
     "output_type": "execute_result"
    },
    {
     "data": {
      "image/png": "[encoded data removed]",
      "text/plain": [
       "<Figure size 576x432 with 1 Axes>"
      ]
     },
     "metadata": {
      "needs_background": "light"
     },
     "output_type": "display_data"
    }
   ],
   "source": [
    "ten_year.plot(color='darkblue', figsize=(8, 6))\n",
    "one_year.plot(color='red')\n",
    "plt.suptitle('Short- and Long-Term U.S. Bond Yields', fontsize=20)\n",
    "plt.title('(Short in Red and Long in Blue)', fontsize=16)\n",
    "plt.xlabel('Date')\n",
    "plt.ylabel('%', fontsize=16)"
   ]
  },
  {
   "cell_type": "markdown",
   "metadata": {},
   "source": [
    "### Some Things to Note on Yield Curves\n",
    "1. When expectations of economic growth are positive, long-term yields should exceed short-term yields.  As a result, yield curves should be positive.  When short rates exceed long rates, the yield curve is said to be inverted.\n",
    "    * Expectations Theory: Long rates are the sum of **expected** short term rates.\n",
    "    * Liquidity Preference Theory: Investors demand higher yields (returns) for bonds with long maturities.\n",
    "2. At a point in time, the difference between long- and short-term rates is a measure of the yield curve.\n",
    "3. During high periods of inflation, such as the late 1970's and the early 1980's, the yield curve is flat, consistent with the Expectations Theory of yield curves: namely, that periods of high inflation will be followed by tight monetary policy that depresses growth.\n",
    "3. During post-financial crisis periods, such the Great Depression and the Global Financial Crisis, yield curves are steeply sloped, consistent with Liquidity Preference Theory."
   ]
  },
  {
   "cell_type": "markdown",
   "metadata": {},
   "source": [
    "### Calculations in This Chapter\n",
    "\n",
    "* $179084770 = 100000000 \\cdot 1.06^{10}$\n",
    "\n",
    "\n",
    "* $94500000 = 90000000 \\cdot 1.05$\n",
    "\n",
    "\n",
    "* $91037616 = \\dfrac{179084770}{1.07^{10}}$\n",
    "\n",
    "\n",
    "* $89150943 = \\dfrac{94500000}{1.06}$"
   ]
  },
  {
   "cell_type": "markdown",
   "metadata": {},
   "source": [
    "# Chapter 20"
   ]
  },
  {
   "attachments": {},
   "cell_type": "markdown",
   "metadata": {},
   "source": [
    "* Commercial mortgage-backed securities (CMBS) are bonds backed by pools of commercial mortgages. \n",
    "* CMBS securities provide claims to components of the cash flows from the underlying mortgages, as the borrowers pay their interest and principal obligations.\n",
    "* The different classes of securities are known as tranches. \n",
    "* Each tranche is characterized by its priority of claim on the mortgage cash flows and/or by the type of cash flows it has claim to.\n",
    "* The basic concept behind CMBS is the reallocation of risk as well as the timing of cash flows and debt maturity.\n",
    "* Basic function of finance: risk transference over a time horizon."
   ]
  },
  {
   "cell_type": "markdown",
   "metadata": {},
   "source": [
    "## CMBS Issuance\n",
    "* Peaked in 2007 at 230 billion\n",
    "* 2018 volume: ~ 77 billion\n",
    "* $21 / 7 = 3$"
   ]
  },
  {
   "cell_type": "markdown",
   "metadata": {},
   "source": [
    "## Example of Tranching\n",
    "* See slides"
   ]
  },
  {
   "cell_type": "code",
   "execution_count": 6,
   "metadata": {},
   "outputs": [],
   "source": [
    "ted = fred.get_series(\"TEDRATE\", observation_start='1996-01-01')"
   ]
  },
  {
   "cell_type": "code",
   "execution_count": 7,
   "metadata": {},
   "outputs": [
    {
     "data": {
      "text/plain": [
       "Text(0,0.5,'%')"
      ]
     },
     "execution_count": 7,
     "metadata": {},
     "output_type": "execute_result"
    },
    {
     "data": {
      "image/png": "[encoded data removed]",
      "text/plain": [
       "<Figure size 576x432 with 1 Axes>"
      ]
     },
     "metadata": {
      "needs_background": "light"
     },
     "output_type": "display_data"
    }
   ],
   "source": [
    "ted.plot(color='darkblue', figsize=(8, 6))\n",
    "plt.suptitle('TED Spread (1% = 100bps)', fontsize=20)\n",
    "plt.xlabel('Date')\n",
    "plt.ylabel('%', fontsize=16)"
   ]
  },
  {
   "cell_type": "markdown",
   "metadata": {},
   "source": [
    "# The Changing Landscape for Real Estate"
   ]
  },
  {
   "cell_type": "markdown",
   "metadata": {},
   "source": [
    "1. Machine learning, prediction and big data  \n",
    "2. Co-working and e-commerce\n",
    "3. The sharing economy and expanding the market for short-term stays\n",
    "4. The re-emergence of agglomeration economics"
   ]
  },
  {
   "cell_type": "markdown",
   "metadata": {},
   "source": [
    "## Modeling Is a Tool\n",
    "\n",
    "* The principles discussed in this course will remain\n",
    "* The tools discussed in this course will remain\n",
    "* The changing landscape requires us adapt how we model and think about the future\n",
    "* Discussion"
   ]
  }
 ],
 "metadata": {
  "kernelspec": {
   "display_name": "Python 3",
   "language": "python",
   "name": "python3"
  },
  "language_info": {
   "codemirror_mode": {
    "name": "ipython",
    "version": 3
   },
   "file_extension": ".py",
   "mimetype": "text/x-python",
   "name": "python",
   "nbconvert_exporter": "python",
   "pygments_lexer": "ipython3",
   "version": "3.7.0"
  }
 },
 "nbformat": 4,
 "nbformat_minor": 2
}
